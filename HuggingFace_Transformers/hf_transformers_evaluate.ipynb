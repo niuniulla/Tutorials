{
 "cells": [
  {
   "cell_type": "markdown",
   "metadata": {},
   "source": [
    "# Evaluate\n",
    "\n",
    "Here is good description of the module: https://huggingface.co/docs/evaluate/a_quick_tour"
   ]
  },
  {
   "cell_type": "code",
   "execution_count": 1,
   "metadata": {},
   "outputs": [
    {
     "name": "stderr",
     "output_type": "stream",
     "text": [
      "2024-05-21 10:37:34.235428: E external/local_xla/xla/stream_executor/cuda/cuda_dnn.cc:9261] Unable to register cuDNN factory: Attempting to register factory for plugin cuDNN when one has already been registered\n",
      "2024-05-21 10:37:34.235511: E external/local_xla/xla/stream_executor/cuda/cuda_fft.cc:607] Unable to register cuFFT factory: Attempting to register factory for plugin cuFFT when one has already been registered\n",
      "2024-05-21 10:37:34.324996: E external/local_xla/xla/stream_executor/cuda/cuda_blas.cc:1515] Unable to register cuBLAS factory: Attempting to register factory for plugin cuBLAS when one has already been registered\n",
      "2024-05-21 10:37:34.478314: I tensorflow/core/platform/cpu_feature_guard.cc:182] This TensorFlow binary is optimized to use available CPU instructions in performance-critical operations.\n",
      "To enable the following instructions: AVX2 FMA, in other operations, rebuild TensorFlow with the appropriate compiler flags.\n",
      "2024-05-21 10:37:37.218377: W tensorflow/compiler/tf2tensorrt/utils/py_utils.cc:38] TF-TRT Warning: Could not find TensorRT\n"
     ]
    }
   ],
   "source": [
    "import evaluate"
   ]
  },
  {
   "cell_type": "code",
   "execution_count": 2,
   "metadata": {},
   "outputs": [
    {
     "data": {
      "text/plain": [
       "[]"
      ]
     },
     "execution_count": 2,
     "metadata": {},
     "output_type": "execute_result"
    }
   ],
   "source": [
    "evaluate.list_evaluation_modules(include_community=False)"
   ]
  },
  {
   "cell_type": "markdown",
   "metadata": {},
   "source": [
    "## Load"
   ]
  },
  {
   "cell_type": "code",
   "execution_count": 3,
   "metadata": {},
   "outputs": [],
   "source": [
    "# loading\n",
    "\n",
    "acc = evaluate.load(\"accuracy\")"
   ]
  },
  {
   "cell_type": "code",
   "execution_count": 4,
   "metadata": {},
   "outputs": [
    {
     "name": "stdout",
     "output_type": "stream",
     "text": [
      "\n",
      "Accuracy is the proportion of correct predictions among the total number of cases processed. It can be computed with:\n",
      "Accuracy = (TP + TN) / (TP + TN + FP + FN)\n",
      " Where:\n",
      "TP: True positive\n",
      "TN: True negative\n",
      "FP: False positive\n",
      "FN: False negative\n",
      "\n",
      "\n",
      "Args:\n",
      "    predictions (`list` of `int`): Predicted labels.\n",
      "    references (`list` of `int`): Ground truth labels.\n",
      "    normalize (`boolean`): If set to False, returns the number of correctly classified samples. Otherwise, returns the fraction of correctly classified samples. Defaults to True.\n",
      "    sample_weight (`list` of `float`): Sample weights Defaults to None.\n",
      "\n",
      "Returns:\n",
      "    accuracy (`float` or `int`): Accuracy score. Minimum possible value is 0. Maximum possible value is 1.0, or the number of examples input, if `normalize` is set to `True`.. A higher score means higher accuracy.\n",
      "\n",
      "Examples:\n",
      "\n",
      "    Example 1-A simple example\n",
      "        >>> accuracy_metric = evaluate.load(\"accuracy\")\n",
      "        >>> results = accuracy_metric.compute(references=[0, 1, 2, 0, 1, 2], predictions=[0, 1, 1, 2, 1, 0])\n",
      "        >>> print(results)\n",
      "        {'accuracy': 0.5}\n",
      "\n",
      "    Example 2-The same as Example 1, except with `normalize` set to `False`.\n",
      "        >>> accuracy_metric = evaluate.load(\"accuracy\")\n",
      "        >>> results = accuracy_metric.compute(references=[0, 1, 2, 0, 1, 2], predictions=[0, 1, 1, 2, 1, 0], normalize=False)\n",
      "        >>> print(results)\n",
      "        {'accuracy': 3.0}\n",
      "\n",
      "    Example 3-The same as Example 1, except with `sample_weight` set.\n",
      "        >>> accuracy_metric = evaluate.load(\"accuracy\")\n",
      "        >>> results = accuracy_metric.compute(references=[0, 1, 2, 0, 1, 2], predictions=[0, 1, 1, 2, 1, 0], sample_weight=[0.5, 2, 0.7, 0.5, 9, 0.4])\n",
      "        >>> print(results)\n",
      "        {'accuracy': 0.8778625954198473}\n",
      "\n"
     ]
    }
   ],
   "source": [
    "# one can show the doc of this method:\n",
    "# print(acc.__doc__)\n",
    "# Or by calling the members, one can show the doc as well \n",
    "\n",
    "# print the description\n",
    "\n",
    "print(acc.description)\n",
    "\n",
    "# print the usage\n",
    "\n",
    "print(acc.inputs_description)"
   ]
  },
  {
   "cell_type": "markdown",
   "metadata": {},
   "source": [
    "## Usage"
   ]
  },
  {
   "cell_type": "code",
   "execution_count": 5,
   "metadata": {},
   "outputs": [
    {
     "name": "stdout",
     "output_type": "stream",
     "text": [
      "0 0\n",
      "1 1\n",
      "2 1\n",
      "0 2\n",
      "1 1\n",
      "2 0\n",
      "{'accuracy': 0.5}\n",
      "[0, 1, 2, 0, 1, 2] [0, 1, 1, 2, 1, 0]\n",
      "[0, 1, 2, 0, 1, 2] [0, 1, 1, 2, 1, 0]\n",
      "{'accuracy': 0.5}\n"
     ]
    }
   ],
   "source": [
    "# for pairs of comparisons\n",
    "\n",
    "acc = evaluate.load(\"accuracy\")\n",
    "ref = [0, 1, 2, 0, 1, 2]\n",
    "pre = [0, 1, 1, 2, 1, 0]\n",
    "\n",
    "for r, p in zip(ref, pre) :\n",
    "    print(r, p)\n",
    "    acc.add(reference=r, prediction=p)\n",
    "\n",
    "print(acc.compute())\n",
    "\n",
    "\n",
    "# for batched results\n",
    "\n",
    "acc = evaluate.load(\"accuracy\")\n",
    "refs = [[0, 1, 2, 0, 1, 2], [0, 1, 2, 0, 1, 2]]\n",
    "pres = [[0, 1, 1, 2, 1, 0], [0, 1, 1, 2, 1, 0]]\n",
    "\n",
    "for r, p in zip(refs, pres) :\n",
    "    print(r, p)\n",
    "    acc.add_batch(references=r, predictions=p)\n",
    "\n",
    "print(acc.compute())\n",
    "\n",
    "# notes: function \"add\" accept iether \"reference\" and \"references\" as vairiable name\n",
    "# but not \"add_batch\""
   ]
  },
  {
   "cell_type": "code",
   "execution_count": 6,
   "metadata": {},
   "outputs": [],
   "source": [
    "# combine several criteria\n",
    "\n",
    "metrics = evaluate.combine([\"accuracy\", \"recall\", \"f1\", \"precision\"])"
   ]
  },
  {
   "cell_type": "code",
   "execution_count": 7,
   "metadata": {},
   "outputs": [
    {
     "data": {
      "text/plain": [
       "{'accuracy': 0.6666666666666666, 'recall': 0.75, 'f1': 0.75, 'precision': 0.75}"
      ]
     },
     "execution_count": 7,
     "metadata": {},
     "output_type": "execute_result"
    }
   ],
   "source": [
    "ref = [0, 1, 1, 0, 1, 1]\n",
    "pre = [0, 1, 1, 1, 1, 0]\n",
    "metrics.compute(references=ref, predictions=pre)"
   ]
  },
  {
   "cell_type": "code",
   "execution_count": null,
   "metadata": {},
   "outputs": [],
   "source": [
    "# evaluate provides also a way to visualize the results for comparison\n",
    "\n",
    "# from evaluate.visualization import radar_plot\n",
    "# data = [{\"accuracy\": 0.8, \"precision\": 0.7, \"f1\": 0.6, \"latency_in_seconds\": 10}, ...]\n",
    "# models = [\"model1\", ...]\n",
    "# plot = radar_plot(data=data, model_names=models)"
   ]
  },
  {
   "cell_type": "markdown",
   "metadata": {},
   "source": [
    "## Application to the translation model\n",
    "\n",
    "A detailed description of the score : https://huggingface.co/spaces/evaluate-metric/bleu"
   ]
  },
  {
   "cell_type": "code",
   "execution_count": 8,
   "metadata": {},
   "outputs": [
    {
     "name": "stdout",
     "output_type": "stream",
     "text": [
      "{'bleu': 0.691441569283882, 'precisions': [0.5714285714285714, 0.6, 0.6666666666666666, 1.0], 'brevity_penalty': 1.0, 'length_ratio': 1.0, 'translation_length': 7, 'reference_length': 7}\n"
     ]
    }
   ],
   "source": [
    "\"\"\"\n",
    " simple usage\n",
    "\"\"\"\n",
    "\n",
    "# load\n",
    "\n",
    "blue = evaluate.load(\"bleu\")\n",
    "\n",
    "# compute\n",
    "\n",
    "ref = [\"hello there general kenobi\", \"foo bar foobar\"]\n",
    "pre = [\"hello there general kenobi\", \"hello there !\"]\n",
    "\n",
    "res = blue.compute(references=ref, predictions=pre)\n",
    "\n",
    "# show result\n",
    "\n",
    "print(res)\n"
   ]
  }
 ],
 "metadata": {
  "kernelspec": {
   "display_name": "diffuser",
   "language": "python",
   "name": "diffuser"
  },
  "language_info": {
   "codemirror_mode": {
    "name": "ipython",
    "version": 3
   },
   "file_extension": ".py",
   "mimetype": "text/x-python",
   "name": "python",
   "nbconvert_exporter": "python",
   "pygments_lexer": "ipython3",
   "version": "3.10.13"
  }
 },
 "nbformat": 4,
 "nbformat_minor": 2
}
