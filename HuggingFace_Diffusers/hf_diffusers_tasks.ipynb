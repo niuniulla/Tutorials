{
 "cells": [
  {
   "cell_type": "markdown",
   "metadata": {},
   "source": [
    "# tasks\n",
    "\n",
    "* text to image model: AutoPipelineForText2Image\n",
    "    - stable diffusion v1.5\n",
    "    - stable diffusion XL (SDXL)\n",
    "    - Kandinsky 2.2\n",
    "\n",
    "* image to image: AutoPipelineForImage2Image\n",
    "    - stable diffusion v1.5\n",
    "    - stable diffusion XL (SDXL)\n",
    "    - Kandinsky 2.2\n",
    "\n",
    "* other types\n",
    "    - controlnet\n",
    "    - T2I\n",
    "\n",
    "* adapters\n",
    "    - textual inversion\n",
    "    - dreambooth\n",
    "    - lora\n",
    "    - IP-adapter"
   ]
  },
  {
   "cell_type": "markdown",
   "metadata": {},
   "source": [
    "+----------------------+------------------+\n",
    "|   Base Model         | Recommended VRAM |\n",
    "+----------------------+------------------+\n",
    "| Stable Diffusion 1.5 | 4-6GB            |\n",
    "| Stable Diffusion 2.1 | 4-6GB            |\n",
    "| Stable Diffusion XL  | 8GB              |\n",
    "| SDXL Turbo           | 8GB              |\n",
    "| Stable Cascade       | 12GB-24GB        |\n",
    "| Stable Diffusion 3   | TBD              |\n",
    "+----------------------+------------------+"
   ]
  }
 ],
 "metadata": {
  "kernelspec": {
   "display_name": "diffuser",
   "language": "python",
   "name": "diffuser"
  },
  "language_info": {
   "codemirror_mode": {
    "name": "ipython",
    "version": 3
   },
   "file_extension": ".py",
   "mimetype": "text/x-python",
   "name": "python",
   "nbconvert_exporter": "python",
   "pygments_lexer": "ipython3",
   "version": "3.10.13"
  }
 },
 "nbformat": 4,
 "nbformat_minor": 2
}
