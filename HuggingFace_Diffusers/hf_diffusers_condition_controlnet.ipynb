{
 "cells": [
  {
   "cell_type": "markdown",
   "metadata": {},
   "source": [
    "# Controlnet"
   ]
  },
  {
   "cell_type": "markdown",
   "metadata": {},
   "source": [
    "diffusers\n",
    "transformers\n",
    "torch\n",
    "torchvision*\n",
    "accelerate"
   ]
  },
  {
   "cell_type": "markdown",
   "metadata": {},
   "source": [
    "Control net donesn't change the original unet. Instead, it uses another smaller network in parallel to the original unet to influence its output.\n",
    "Thus, the trainable parameters are much less since the controlnet is smaller than the original unet.\n",
    "So the trianing is faster and requires less memories."
   ]
  },
  {
   "cell_type": "markdown",
   "metadata": {},
   "source": [
    "## utils"
   ]
  },
  {
   "cell_type": "code",
   "execution_count": 117,
   "metadata": {},
   "outputs": [
    {
     "name": "stdout",
     "output_type": "stream",
     "text": [
      "cuda:0\n"
     ]
    }
   ],
   "source": [
    "import torch\n",
    "device = \"cuda:0\" if torch.cuda.is_available else \"cpu\"\n",
    "print(device)\n"
   ]
  },
  {
   "cell_type": "code",
   "execution_count": null,
   "metadata": {},
   "outputs": [],
   "source": [
    "import numpy as np\n",
    "import torch.nn as nn\n",
    "import os, torch, copy, cv2\n",
    "from tqdm.notebook import tqdm\n",
    "import matplotlib.pyplot as plt\n",
    "from diffusers import DDPMScheduler\n",
    "from torchvision.utils import make_grid"
   ]
  },
  {
   "cell_type": "code",
   "execution_count": null,
   "metadata": {},
   "outputs": [],
   "source": [
    "def get_num_parameters(net, only_trainable=False):\n",
    "    return sum(p.numel() for p in net.parameters() if p.require_grads == True and only_trainable == True)"
   ]
  },
  {
   "cell_type": "markdown",
   "metadata": {},
   "source": [
    "## Train base unet\n",
    "\n",
    "So first, we need a trained diffusion unet. If you use the pretrained one or already have one, skip this section"
   ]
  },
  {
   "cell_type": "code",
   "execution_count": 11,
   "metadata": {},
   "outputs": [],
   "source": [
    "#### create unet\n",
    "\n",
    "from diffusers import UNet2DModel\n",
    "unet = UNet2DModel(\n",
    "    sample_size=28,\n",
    "    in_channels=1,\n",
    "    out_channels=1,\n",
    "    layers_per_block=2,\n",
    "    block_out_channels=(32, 64, 128),\n",
    "    down_block_types=(\n",
    "        \"DownBlock2D\",\n",
    "        \"AttnDownBlock2D\",\n",
    "        \"AttnDownBlock2D\",\n",
    "    ),\n",
    "    up_block_types=(\n",
    "        \"AttnUpBlock2D\",\n",
    "        \"AttnUpBlock2D\",\n",
    "        \"UpBlock2D\",\n",
    "    ),\n",
    ")"
   ]
  },
  {
   "cell_type": "code",
   "execution_count": 114,
   "metadata": {},
   "outputs": [],
   "source": [
    "#### prepare data\n",
    "\n",
    "import PIL.Image as Image\n",
    "import torch.utils.data as utils\n",
    "import torchvision.datasets as datasets\n",
    "import torchvision.transforms as transforms\n",
    "\n",
    "batch_size = 128\n",
    "\n",
    "# load dataset\n",
    "data_transforms = [\n",
    "    transforms.ToTensor(), # convert to the range [0,1]\n",
    "    transforms.Lambda(lambda x: x * 2 - 1) # convert to the range [-1,1]\n",
    "]\n",
    "data_transforms = transforms.Compose(data_transforms)\n",
    "data = datasets.MNIST(\"./mnist\", download=False, transform=data_transforms)\n",
    "\n",
    "# dataloaders\n",
    "train_loader = utils.DataLoader(dataset=data, batch_size=batch_size, shuffle=True)"
   ]
  },
  {
   "cell_type": "code",
   "execution_count": 286,
   "metadata": {},
   "outputs": [],
   "source": [
    "#### define train loop\n",
    "\n",
    "def train(epochs, net, data_loader, scheduler, use_cls=False):\n",
    "    \n",
    "    num_epochs = epochs\n",
    "\n",
    "    net = net.to(device)\n",
    "\n",
    "    loss_fn = nn.MSELoss()\n",
    "\n",
    "    optim = torch.optim.Adam(net.parameters(), lr=1e-3)\n",
    "\n",
    "    losses = []\n",
    "\n",
    "    net.train()\n",
    "\n",
    "    for e in range(num_epochs):\n",
    "\n",
    "        for x, l in tqdm(data_loader):\n",
    "\n",
    "            x = x.to(device)\n",
    "            #l = l.to(device)\n",
    "\n",
    "            z = torch.randn_like(x).to(device)\n",
    "\n",
    "            ts = torch.randint(0, 1000, (x.shape[0], )).to(device)\n",
    "\n",
    "            x_noisy = scheduler.add_noise(x, z, ts)\n",
    "\n",
    "            if (use_cls):\n",
    "                pred = net(x_noisy, ts, l).sample\n",
    "            else:\n",
    "                pred = net(x_noisy, ts).sample\n",
    "\n",
    "            loss = loss_fn(pred, z)\n",
    "\n",
    "            optim.zero_grad()\n",
    "            loss.backward()\n",
    "            optim.step()\n",
    "            losses.append(loss.item())\n",
    "\n",
    "        epoch_loss = sum(losses[-len(train_loader):]) / len(train_loader)\n",
    "        print(f\"Epoch {e} / {num_epochs} - loss: {epoch_loss:04f}\")\n",
    "\n",
    "    return losses"
   ]
  },
  {
   "cell_type": "code",
   "execution_count": null,
   "metadata": {},
   "outputs": [],
   "source": [
    "#### train\n",
    "\n",
    "unet = unet.to(device)\n",
    "scheduler = DDPMScheduler(num_train_timesteps=1000, beta_schedule='squaredcos_cap_v2')\n",
    "LLosses = train(10, unet, train_loader, scheduler)\n",
    "\n",
    "# save the weights\n",
    "path = \"./tmp/mnistunet.pth\"\n",
    "torch.save(unet.state_dict(), path)"
   ]
  },
  {
   "cell_type": "code",
   "execution_count": 161,
   "metadata": {},
   "outputs": [],
   "source": [
    "from torchvision.utils import make_grid\n",
    "import matplotlib.pyplot as plt\n",
    "\n",
    "def generate(net, scheduler, num = 100, use_cls=False, cond=None):\n",
    "\n",
    "    x = torch.randn(num, 1, 28, 28).to(device)\n",
    "    if use_cls:\n",
    "        y = torch.tensor([[i]*10 for i in range(1,num%10+1)]).flatten().to(device)\n",
    "\n",
    "    # Sampling loop\n",
    "    for i, t in tqdm(enumerate(scheduler.timesteps)):\n",
    "\n",
    "        # Get model pred\n",
    "        with torch.no_grad():\n",
    "            if (use_cls):\n",
    "                pred = net(x, t, y).sample\n",
    "            elif cond is not None:\n",
    "                pred = net(x, t, cond)\n",
    "            else:\n",
    "                pred = net(x, t).sample\n",
    "\n",
    "        # Update sample with step\n",
    "        x = scheduler.step(pred, t, x).prev_sample\n",
    "\n",
    "    # Show the results\n",
    "    fig, ax = plt.subplots(1, 1, figsize=(12, 12))\n",
    "    ax.imshow(make_grid(x.detach().cpu().clip(-1, 1), nrow=10)[0], cmap='Greys')"
   ]
  },
  {
   "cell_type": "code",
   "execution_count": null,
   "metadata": {},
   "outputs": [],
   "source": [
    "#### check results\n",
    "\n",
    "generate(unet, scheduler)"
   ]
  },
  {
   "cell_type": "markdown",
   "metadata": {},
   "source": [
    "## Control with canny"
   ]
  },
  {
   "cell_type": "code",
   "execution_count": 306,
   "metadata": {},
   "outputs": [],
   "source": [
    "# controlnet\n",
    "\n",
    "class MNISTUNetL(nn.Module) :\n",
    "\n",
    "    @staticmethod\n",
    "    def zero_module(module):\n",
    "        \"\"\"\n",
    "        Zero out the parameters of a module and return it.\n",
    "        \"\"\"\n",
    "        for p in module.parameters():\n",
    "            p.detach().zero_()\n",
    "        return module\n",
    "\n",
    "\n",
    "    def __init__(self):\n",
    "\n",
    "        super().__init__()\n",
    "\n",
    "        # original unet\n",
    "        self.unet = UNet2DModel(\n",
    "            sample_size=28,\n",
    "            in_channels=1,\n",
    "            out_channels=1,\n",
    "            layers_per_block=2,\n",
    "            block_out_channels=(32, 64, 128),\n",
    "            down_block_types=(\n",
    "                \"DownBlock2D\",\n",
    "                \"AttnDownBlock2D\",\n",
    "                \"AttnDownBlock2D\",\n",
    "            ),\n",
    "            up_block_types=(\n",
    "                \"AttnUpBlock2D\",\n",
    "                \"AttnUpBlock2D\",\n",
    "                \"UpBlock2D\",\n",
    "            ),\n",
    "        )\n",
    "\n",
    "        # load the orignal unet weights\n",
    "        path = \"./tmp/mnistunet.pth\"\n",
    "        if not os.path.exists(path):\n",
    "            raise FileNotFoundError(\"Model file not found!\")\n",
    "        else:\n",
    "            self.unet.load_state_dict(torch.load(path, map_location=device))\n",
    "            print(\"Model loaded successfully!\")\n",
    "\n",
    "        # freeze the original unet weights\n",
    "        for params in self.unet.parameters():\n",
    "            params.requires_grad = False\n",
    "\n",
    "        # define controlnet\n",
    "        ch = self.unet.config.block_out_channels[0]\n",
    "\n",
    "        # define downblocks\n",
    "        self.down_blocks = nn.ModuleList([copy.deepcopy(block) for block in self.unet.down_blocks])\n",
    "        self.mid_block = copy.deepcopy(self.unet.mid_block)\n",
    "\n",
    "        # define zero conv layers\n",
    "        self.zeroconv_input = MNISTUNetL.zero_module(nn.Conv2d(1, ch, kernel_size=1, stride=1, padding=0))\n",
    "        self.zeroconvs = nn.ModuleList([MNISTUNetL.zero_module(nn.Conv2d(ch, ch, kernel_size=1, stride=1, padding=0))])\n",
    "\n",
    "        for i in range(len(self.down_blocks)):\n",
    "            # zero conv layer for all resnet block\n",
    "            for j in range(self.unet.config.layers_per_block):\n",
    "                ch = self.unet.config.block_out_channels[i]\n",
    "                self.zeroconvs.append(MNISTUNetL.zero_module(nn.Conv2d(ch, ch, kernel_size=1, stride=1, padding=0)))\n",
    "            # if it is the final block, we need a zero conv layer too\n",
    "            if hasattr(self.unet.down_blocks[i], \"downsamplers\"):\n",
    "                ch = self.unet.config.block_out_channels[i]\n",
    "                self.zeroconvs.append(MNISTUNetL.zero_module(nn.Conv2d(ch, ch, kernel_size=1, stride=1, padding=0)))\n",
    "        # define mid block and its zero conv layer\n",
    "        mid_ch = self.unet.config.block_out_channels[-1]\n",
    "        self.zeroconv_mid_block = MNISTUNetL.zero_module(nn.Conv2d(mid_ch, mid_ch, kernel_size=1, stride=1, padding=0))\n",
    "\n",
    "\n",
    "    def forward(self, x, t, c):\n",
    "\n",
    "        # preprocess time\n",
    "        if not torch.is_tensor(t):\n",
    "            if isinstance(t, float) or isinstance(t, int):\n",
    "                t = torch.tensor([t], dtype=torch.float32, device=x.device)\n",
    "        elif torch.is_torch(t) and len(t) == 1:\n",
    "            t = t.expand(x.shape[0], dtype=torch.float32, device=x.device)\n",
    "        elif len(t) == len(x):\n",
    "            t = torch.tensor(t, dtype=torch.float32, device=x.device)\n",
    "        t = t.expand(x.shape[0])\n",
    "\n",
    "        # time projection\n",
    "        emb_t = self.unet.time_proj(t) # (batch, ) -> (batch, 32)\n",
    "        emb_t = self.unet.time_embedding(emb_t) # (batch, 32) -> (batch, 128), 12_ is the dim of linear input dim of attention block\n",
    "\n",
    "        # pre_process of input\n",
    "        out_legacy = self.unet.conv_in(x) # (batch, 32, 28, 28)\n",
    "\n",
    "        ##### Condition #####\n",
    "\n",
    "        # pre-process on condition side\n",
    "        out_c = self.zeroconv_input(c) # c (batch, 1, 28, 28)\n",
    "        out = out_c + out_legacy # x (batch, 1, 28, 28)\n",
    "\n",
    "        # downblocks\n",
    "        down_block_res = (out, ) # tuple of tensor(batch, 32, 28, 28)\n",
    "\n",
    "        for block in self.down_blocks:\n",
    "            out, res = block(hidden_states=out, temb=emb_t)\n",
    "            down_block_res += res\n",
    "\n",
    "        # mid block\n",
    "        out = self.mid_block(hidden_states=out, temb=emb_t)\n",
    "\n",
    "        # zeroconvs\n",
    "        zeroconv_res = ()\n",
    "        for res, zeroconv in zip(down_block_res, self.zeroconvs):\n",
    "            res = zeroconv(res)\n",
    "            zeroconv_res += (res,)\n",
    "\n",
    "        zeroconv_mid_res = self.zeroconv_mid_block(out)\n",
    "\n",
    "        #### unet ####\n",
    "\n",
    "        # down blocks\n",
    "        legacy_down_block_res = (out_legacy,)\n",
    "        for down in self.unet.down_blocks:\n",
    "            out_legacy, res = down(hidden_states=out_legacy, temb=emb_t)\n",
    "            legacy_down_block_res += res\n",
    "\n",
    "        # mid block\n",
    "        out_legacy = self.unet.mid_block(out_legacy, emb_t)\n",
    "\n",
    "        out_mix = out_legacy + zeroconv_mid_res\n",
    "\n",
    "        # upblocks\n",
    "\n",
    "        for up in self.unet.up_blocks:\n",
    "            # pop the res of the unet downblocks\n",
    "            res_legacy = legacy_down_block_res[-len(up.resnets) :]\n",
    "            legacy_down_block_res = legacy_down_block_res[: -len(up.resnets)] # pop the res when done\n",
    "\n",
    "            # pop the res of the controlnet downblocks\n",
    "            res_zero = zeroconv_res[-len(up.resnets) :]\n",
    "            zeroconv_res = zeroconv_res[: -len(up.resnets)] # pop the res when done\n",
    "            out_mix = up(out_mix, res_legacy+res_zero, emb_t)\n",
    "\n",
    "        # post process\n",
    "        out_mix = self.unet.conv_norm_out(out_mix)\n",
    "        out_mix = self.unet.conv_act(out_mix)\n",
    "        out_mix = self.unet.conv_out(out_mix)\n",
    "\n",
    "        return out_mix\n",
    "\n",
    "# # tests\n",
    "# net = MNISTUNetL()\n",
    "# input_x = torch.randn((10, 1, 28, 28))\n",
    "# input_t = torch.randn((10, ))\n",
    "# input_c = torch.randn((10, 1, 28, 28))\n",
    "# output = net(input_x, input_t, input_c)\n",
    "# print(output.shape)\n",
    "# should output\n",
    "#   Model loaded successfully!\n",
    "#   torch.Size([10, 1, 28, 28])"
   ]
  },
  {
   "cell_type": "code",
   "execution_count": null,
   "metadata": {},
   "outputs": [
    {
     "name": "stdout",
     "output_type": "stream",
     "text": [
      "torch.Size([128, 1, 28, 28])\n",
      "torch.float32\n"
     ]
    }
   ],
   "source": [
    "# we use canny edge as the condition\n",
    "\n",
    "def get_canny(imgs:torch.Tensor) -> torch.Tensor:\n",
    "    \"\"\"\n",
    "    Apply Canny edge detection to a batch of images.\n",
    "    \"\"\"\n",
    "    cannies = torch.empty(imgs.shape)\n",
    "    for i, img in enumerate(imgs):\n",
    "        img = img[0]\n",
    "        img = img.to(torch.uint8).numpy()\n",
    "        canny = cv2.Canny(img, 100, 200)\n",
    "        canny = torch.tensor(canny[np.newaxis,], dtype=torch.float32).clamp(0,1.0)\n",
    "        cannies[i] = canny.unsqueeze(0)\n",
    "    return cannies\n",
    "\n",
    "cannies = get_canny(next(iter(train_loader))[0])\n",
    "print(cannies.shape)\n",
    "print(cannies.dtype)"
   ]
  },
  {
   "cell_type": "code",
   "execution_count": 127,
   "metadata": {},
   "outputs": [],
   "source": [
    "# train loop\n",
    "def train_cond(epochs, net, data_loader, scheduler, lr=1e-3):\n",
    "    \n",
    "    num_epochs = epochs\n",
    "\n",
    "    net = net.to(device)\n",
    "\n",
    "    loss_fn = nn.MSELoss()\n",
    "\n",
    "    optim = torch.optim.Adam(net.parameters(), lr=lr)\n",
    "\n",
    "    losses = []\n",
    "\n",
    "    net.train()\n",
    "\n",
    "    for e in range(num_epochs):\n",
    "\n",
    "        for x, l in tqdm(data_loader):\n",
    "\n",
    "            cannies = get_canny(x).to(device)\n",
    "            x = x.to(device)\n",
    "\n",
    "            z = torch.randn_like(x).to(device)\n",
    "\n",
    "            ts = torch.randint(0, 1000, (x.shape[0], )).to(device)\n",
    "\n",
    "            x_noisy = scheduler.add_noise(x, z, ts)\n",
    "\n",
    "            pred = net(x_noisy, ts, cannies)\n",
    "\n",
    "            loss = loss_fn(pred, z)\n",
    "\n",
    "            optim.zero_grad()\n",
    "            loss.backward()\n",
    "            optim.step()\n",
    "            losses.append(loss.item())\n",
    "\n",
    "        epoch_loss = sum(losses[-len(train_loader):]) / len(train_loader)\n",
    "        print(f\"Epoch {e} / {num_epochs} - loss: {epoch_loss:04f}\")\n",
    "\n",
    "    return losses"
   ]
  },
  {
   "cell_type": "code",
   "execution_count": null,
   "metadata": {},
   "outputs": [],
   "source": [
    "# train\n",
    "cond_net = MNISTUNetL()\n",
    "cond_net = cond_net.to(device)\n",
    "scheduler = DDPMScheduler(num_train_timesteps=1000, beta_schedule='squaredcos_cap_v2')\n",
    "LLosses = train_cond(10, cond_net, train_loader, scheduler)"
   ]
  },
  {
   "cell_type": "code",
   "execution_count": 335,
   "metadata": {},
   "outputs": [
    {
     "data": {
      "application/vnd.jupyter.widget-view+json": {
       "model_id": "556456513aff49f1adb14bbda0cf7eeb",
       "version_major": 2,
       "version_minor": 0
      },
      "text/plain": [
       "0it [00:00, ?it/s]"
      ]
     },
     "metadata": {},
     "output_type": "display_data"
    },
    {
     "data": {
      "text/plain": [
       "<matplotlib.image.AxesImage at 0x7f89d010fee0>"
      ]
     },
     "execution_count": 335,
     "metadata": {},
     "output_type": "execute_result"
    },
    {
     "data": {
      "image/png": "[encoded data removed]",
      "text/plain": [
       "<Figure size 1200x1200 with 1 Axes>"
      ]
     },
     "metadata": {},
     "output_type": "display_data"
    },
    {
     "data": {
      "image/png": "[encoded data removed]",
      "text/plain": [
       "<Figure size 1200x1200 with 1 Axes>"
      ]
     },
     "metadata": {},
     "output_type": "display_data"
    }
   ],
   "source": [
    "# show results\n",
    "x = torch.randn(10, 1, 28, 28).to(device)\n",
    "c = get_canny(next(iter(train_loader))[0][:10]).to(device)\n",
    "\n",
    "fig, ax = plt.subplots(1, 1, figsize=(12, 12))\n",
    "ax.imshow(make_grid(c.detach().cpu().clip(-1, 1), nrow=10)[0], cmap='Greys')\n",
    "generate(cond_net, scheduler, num=10, cond=c)"
   ]
  },
  {
   "cell_type": "markdown",
   "metadata": {},
   "source": [
    "## Controlnet\n",
    "\n",
    "This is the same as the previous section, but we refactor the code to separate the controlnet and the unet."
   ]
  },
  {
   "cell_type": "code",
   "execution_count": 397,
   "metadata": {},
   "outputs": [],
   "source": [
    "# controlnet\n",
    "class ControlNet(nn.Module) :\n",
    "\n",
    "    @staticmethod\n",
    "    def zero_module(module):\n",
    "        \"\"\"\n",
    "        Zero out the parameters of a module and return it.\n",
    "        \"\"\"\n",
    "        for p in module.parameters():\n",
    "            p.detach().zero_()\n",
    "        return module\n",
    "    \n",
    "    def freeze_layer(self, layer):\n",
    "        for p in layer.parameters():\n",
    "            p.requires_grad = False\n",
    "\n",
    "    def copy_block(self, net, block_name, state_dict):\n",
    "        found = False\n",
    "        with torch.no_grad():\n",
    "            for name, layer in net.named_parameters():\n",
    "                if block_name in name:\n",
    "                    mylayer = copy.deepcopy(layer)\n",
    "                    mylayer.copy_(state_dict[name])\n",
    "\n",
    "        return eval(\"net.\"+block_name)\n",
    "\n",
    "\n",
    "    def __init__(self, unet:UNet2DModel, state_dict):\n",
    "\n",
    "        super().__init__()\n",
    "\n",
    "        # get the layers from unet\n",
    "        self.conv_in = self.copy_block(unet, \"conv_in\", state_dict)\n",
    "        self.freeze_layer(self.conv_in)\n",
    "        self.time_proj = self.copy_block(unet, \"time_proj\", state_dict)\n",
    "        self.freeze_layer(self.time_proj)\n",
    "        self.time_embedding = self.copy_block(unet, \"time_embedding\", state_dict)\n",
    "        self.freeze_layer(self.time_embedding)\n",
    "\n",
    "        # define controlnet\n",
    "        ch = unet.config.block_out_channels[0]\n",
    "\n",
    "        # define downblocks\n",
    "        self.down_blocks = nn.ModuleList([copy.deepcopy(block) for block in unet.down_blocks])\n",
    "        self.mid_block = copy.deepcopy(unet.mid_block)\n",
    "\n",
    "        # define zero conv layers\n",
    "        self.zeroconv_input = MNISTUNetL.zero_module(nn.Conv2d(1, ch, kernel_size=1, stride=1, padding=0))\n",
    "        self.zeroconvs = nn.ModuleList([MNISTUNetL.zero_module(nn.Conv2d(ch, ch, kernel_size=1, stride=1, padding=0))])\n",
    "\n",
    "        for i in range(len(self.down_blocks)):\n",
    "            # zero conv layer for all resnet block\n",
    "            for j in range(unet.config.layers_per_block):\n",
    "                ch = unet.config.block_out_channels[i]\n",
    "                self.zeroconvs.append(MNISTUNetL.zero_module(nn.Conv2d(ch, ch, kernel_size=1, stride=1, padding=0)))\n",
    "            # if it is the final block, we need a zero conv layer too\n",
    "            if hasattr(unet.down_blocks[i], \"downsamplers\"):\n",
    "                ch = unet.config.block_out_channels[i]\n",
    "                self.zeroconvs.append(MNISTUNetL.zero_module(nn.Conv2d(ch, ch, kernel_size=1, stride=1, padding=0)))\n",
    "        # define mid block and its zero conv layer\n",
    "        mid_ch = unet.config.block_out_channels[-1]\n",
    "        self.zeroconv_mid_block = MNISTUNetL.zero_module(nn.Conv2d(mid_ch, mid_ch, kernel_size=1, stride=1, padding=0))\n",
    "\n",
    "\n",
    "    def forward(self, x, t, c):\n",
    "\n",
    "        # preprocess time\n",
    "        if not torch.is_tensor(t):\n",
    "            if isinstance(t, float) or isinstance(t, int):\n",
    "                t = torch.tensor([t], dtype=torch.float32, device=x.device)\n",
    "        elif len(t) == len(x):\n",
    "            t = torch.tensor(t, dtype=torch.float32, device=x.device)\n",
    "        t = t.expand(x.shape[0])\n",
    "\n",
    "        # time projection\n",
    "        emb_t = self.time_proj(t) # (batch, ) -> (batch, 32)\n",
    "        emb_t = self.time_embedding(emb_t) # (batch, 32) -> (batch, 128), 12_ is the dim of linear input dim of attention block\n",
    "\n",
    "        # pre_process of input\n",
    "        out_legacy = self.conv_in(x) # (batch, 32, 28, 28)\n",
    "\n",
    "        ##### Condition #####\n",
    "\n",
    "        # pre-process on condition side\n",
    "        out_c = self.zeroconv_input(c) # c (batch, 1, 28, 28)\n",
    "        out = out_c + out_legacy # x (batch, 1, 28, 28)\n",
    "\n",
    "        # downblocks\n",
    "        down_block_res = (out, ) # tuple of tensor(batch, 32, 28, 28)\n",
    "\n",
    "        for block in self.down_blocks:\n",
    "            out, res = block(hidden_states=out, temb=emb_t)\n",
    "            down_block_res += res\n",
    "\n",
    "        # mid block\n",
    "        out = self.mid_block(hidden_states=out, temb=emb_t)\n",
    "\n",
    "        # zeroconvs\n",
    "        zeroconv_res = ()\n",
    "        for res, zeroconv in zip(down_block_res, self.zeroconvs):\n",
    "            res = zeroconv(res)\n",
    "            zeroconv_res += (res,)\n",
    "\n",
    "        zeroconv_mid_res = self.zeroconv_mid_block(out)\n",
    "\n",
    "        return zeroconv_res, zeroconv_mid_res"
   ]
  },
  {
   "cell_type": "code",
   "execution_count": 398,
   "metadata": {},
   "outputs": [],
   "source": [
    "# controlnet + unet\n",
    "class DFUnetCondition2D(nn.Module):\n",
    "    def __init__(self, orignal_unet, state_path=\"./tmp/mnistunet.pth\"):\n",
    "\n",
    "        super().__init__()\n",
    "        self.unet = orignal_unet\n",
    "\n",
    "        # load the orignal unet weights\n",
    "        if not os.path.exists(state_path):\n",
    "            raise FileNotFoundError(\"Model file not found!\")\n",
    "        else:\n",
    "            state_dict = torch.load(path, map_location=device)\n",
    "            self.unet.load_state_dict(state_dict)\n",
    "            print(\"Model loaded successfully!\")\n",
    "\n",
    "        # freeze the original unet weights\n",
    "        for params in self.unet.parameters():\n",
    "            params.requires_grad = False\n",
    "\n",
    "        self.controlnet = ControlNet(unet, state_dict)\n",
    "\n",
    "    def save_controlnet(self, path):\n",
    "        torch.save(self.controlnet.state_dict(), path)\n",
    "\n",
    "    def save_unet(self, path):\n",
    "        torch.save(self.unet.state_dict(), path)\n",
    "\n",
    "    def forward(self, x, t, c):\n",
    "        controlnet_res, controlnet_mid_res = self.controlnet(x, t, c)\n",
    "\n",
    "        # preprocess time\n",
    "        if not torch.is_tensor(t):\n",
    "            if isinstance(t, float) or isinstance(t, int):\n",
    "                t = torch.tensor([t], dtype=torch.float32, device=x.device)\n",
    "        elif len(t) == len(x):\n",
    "            t = torch.tensor(t, dtype=torch.float32, device=x.device)\n",
    "        t = t.expand(x.shape[0])\n",
    "\n",
    "        # time projection\n",
    "        emb_t = self.unet.time_proj(t) # (batch, ) -> (batch, 32)\n",
    "        emb_t = self.unet.time_embedding(emb_t) # (batch, 32) -> (batch, 128), 12_ is the \n",
    "        out = self.unet.conv_in(x) # (batch, 32, 28, 28)\n",
    "\n",
    "        #### unet ####\n",
    "\n",
    "        # down blocks\n",
    "        down_block_res = (out,)\n",
    "        for down in self.unet.down_blocks:\n",
    "            out, res = down(hidden_states=out, temb=emb_t)\n",
    "            down_block_res += res\n",
    "\n",
    "        # mid block\n",
    "        out = self.unet.mid_block(out, emb_t)\n",
    "        out = out + controlnet_mid_res\n",
    "\n",
    "        # upblocks\n",
    "        for up in self.unet.up_blocks:\n",
    "            # pop the res of the unet downblocks\n",
    "            res = down_block_res[-len(up.resnets) :]\n",
    "            down_block_res = down_block_res[: -len(up.resnets)] # pop the res when done\n",
    "            res_zero = controlnet_res[-len(up.resnets) :] # pop the res of the controlnet downblocks\n",
    "            controlnet_res = controlnet_res[: -len(up.resnets)] # pop the res when done\n",
    "            out = up(out, res+res_zero, emb_t)\n",
    "\n",
    "        # post process\n",
    "        out = self.unet.conv_norm_out(out)\n",
    "        out = self.unet.conv_act(out)\n",
    "        out = self.unet.conv_out(out)\n",
    "        return out"
   ]
  },
  {
   "cell_type": "code",
   "execution_count": 402,
   "metadata": {},
   "outputs": [
    {
     "name": "stdout",
     "output_type": "stream",
     "text": [
      "Model loaded successfully!\n",
      "Unet has 4023233 parameters and controlnet has 1759584 parameters\n"
     ]
    }
   ],
   "source": [
    "# state_dict = torch.load(\"./tmp/mnistunet.pth\")\n",
    "controlnet = DFUnetCondition2D(unet)\n",
    "\n",
    "print(f\"Unet has {get_num_parameters(unet)} parameters and controlnet has {get_num_parameters(controlnet.controlnet)} parameters\")"
   ]
  },
  {
   "cell_type": "code",
   "execution_count": 400,
   "metadata": {},
   "outputs": [],
   "source": [
    "# train\n",
    "controlnet = controlnet.to(device)\n",
    "scheduler = DDPMScheduler(num_train_timesteps=1000, beta_schedule='squaredcos_cap_v2')\n",
    "LLosses = train_cond(10, controlnet, train_loader, scheduler)"
   ]
  },
  {
   "cell_type": "code",
   "execution_count": 401,
   "metadata": {},
   "outputs": [
    {
     "data": {
      "application/vnd.jupyter.widget-view+json": {
       "model_id": "506cf75ddfb146028994ae78a8417b99",
       "version_major": 2,
       "version_minor": 0
      },
      "text/plain": [
       "0it [00:00, ?it/s]"
      ]
     },
     "metadata": {},
     "output_type": "display_data"
    },
    {
     "name": "stderr",
     "output_type": "stream",
     "text": [
      "/tmp/ipykernel_6701/3638192958.py:71: UserWarning: To copy construct from a tensor, it is recommended to use sourceTensor.clone().detach() or sourceTensor.clone().detach().requires_grad_(True), rather than torch.tensor(sourceTensor).\n",
      "  t = torch.tensor(t, dtype=torch.float32, device=x.device)\n",
      "/tmp/ipykernel_6701/2379625522.py:35: UserWarning: To copy construct from a tensor, it is recommended to use sourceTensor.clone().detach() or sourceTensor.clone().detach().requires_grad_(True), rather than torch.tensor(sourceTensor).\n",
      "  t = torch.tensor(t, dtype=torch.float32, device=x.device)\n"
     ]
    },
    {
     "data": {
      "text/plain": [
       "<matplotlib.image.AxesImage at 0x7f89dabbbeb0>"
      ]
     },
     "execution_count": 401,
     "metadata": {},
     "output_type": "execute_result"
    },
    {
     "data": {
      "image/png": "[encoded data removed]",
      "text/plain": [
       "<Figure size 1200x1200 with 1 Axes>"
      ]
     },
     "metadata": {},
     "output_type": "display_data"
    },
    {
     "data": {
      "image/png": "[encoded data removed]",
      "text/plain": [
       "<Figure size 1200x1200 with 1 Axes>"
      ]
     },
     "metadata": {},
     "output_type": "display_data"
    }
   ],
   "source": [
    "x = torch.randn(10, 1, 28, 28).to(device)\n",
    "c = get_canny(next(iter(train_loader))[0][:10]).to(device)\n",
    "\n",
    "# Show the results\n",
    "fig, ax = plt.subplots(1, 1, figsize=(12, 12))\n",
    "ax.imshow(make_grid(c.detach().cpu().clip(-1, 1), nrow=10)[0], cmap='Greys')\n",
    "generate(controlnet, scheduler, num=10, cond=c)"
   ]
  },
  {
   "cell_type": "markdown",
   "metadata": {},
   "source": [
    "## T2I\n",
    "\n",
    "This is simplier than controlnet. It consists of a parallel network called T2I-Adapter injected into the unet's encoder."
   ]
  },
  {
   "cell_type": "code",
   "execution_count": 101,
   "metadata": {},
   "outputs": [],
   "source": [
    "# building blocks for adapter\n",
    "\n",
    "class ResBlock(nn.Module):\n",
    "    def __init__(self, ch, skip=False):\n",
    "        super().__init__()\n",
    "        self.conv1 = nn.Conv2d(ch, ch, 3, 1, 1)\n",
    "        self.act = nn.ReLU()\n",
    "        self.conv2 = nn.Conv2d(ch, ch, 1, 1, 0)\n",
    "        if skip:\n",
    "            self.skip = nn.Conv2d(ch, ch, 3, 1, 1)\n",
    "        else:\n",
    "            self.skip = None\n",
    "        \n",
    "    def forward(self, x):\n",
    "        h = self.conv1(x)\n",
    "        h = self.act(h)\n",
    "        h = self.conv2(h)\n",
    "        if self.skip is not None:\n",
    "            return h + self.skip(x)\n",
    "        return x + h\n",
    "    \n",
    "class AdapterBlock(nn.Module):\n",
    "    def __init__(self, in_ch, out_ch, num_rb=2, down=False, skip=False):\n",
    "        super().__init__()\n",
    "        if in_ch != out_ch:\n",
    "            self.in_conv = nn.Conv2d(in_ch, out_ch, 3, 1, 1)\n",
    "        else:\n",
    "            self.in_conv = None\n",
    "        self.down = down\n",
    "        if self.down:\n",
    "            self.down = nn.AvgPool2d(2, 2)\n",
    "        self.res_blocks = [ResBlock(out_ch, skip) for i in range(num_rb)]\n",
    "        self.res_blocks = nn.Sequential(*self.res_blocks)\n",
    "        \n",
    "\n",
    "    def forward(self, x):\n",
    "        h = x\n",
    "        if self.down:\n",
    "            h = self.down(h)\n",
    "        if self.in_conv is not None:\n",
    "            h = self.in_conv(h)\n",
    "        h = self.res_blocks(h)\n",
    "        return h\n",
    "    \n",
    "class Adapter(nn.Module):\n",
    "    def __init__(self, channels=[32, 64, 128], cin=1, num_rb=2):\n",
    "        super().__init__()\n",
    "        self.unshuffle = nn.PixelUnshuffle(2)\n",
    "        self.channels = channels\n",
    "        self.num_rb = num_rb\n",
    "        self.body = []\n",
    "        \n",
    "        for i, ch in enumerate(channels):\n",
    "            if i == 0:\n",
    "                self.body.append(AdapterBlock(cin*4, channels[0], down=False))\n",
    "            elif i == len(channels) - 1:\n",
    "                self.body.append(AdapterBlock(channels[i-1], channels[i], down=False))\n",
    "            else:\n",
    "                self.body.append(AdapterBlock(channels[i-1], channels[i], down=True))\n",
    "        self.body = nn.ModuleList(self.body)\n",
    "\n",
    "    def forward(self, x):\n",
    "        x = self.unshuffle(x)\n",
    "        res = []\n",
    "        for i in range(len(self.channels)):\n",
    "            x = self.body[i](x)\n",
    "            res.append(x)\n",
    "        return res"
   ]
  },
  {
   "cell_type": "code",
   "execution_count": null,
   "metadata": {},
   "outputs": [
    {
     "name": "stdout",
     "output_type": "stream",
     "text": [
      "Unet has 4023233 parameters and ti2 has 524512 parameters\n"
     ]
    }
   ],
   "source": [
    "adapter = Adapter()\n",
    "\n",
    "print(f\"Unet has {get_num_parameters(unet)} parameters and ti2 has {get_num_parameters(adapter)} parameters\")"
   ]
  },
  {
   "cell_type": "code",
   "execution_count": 148,
   "metadata": {},
   "outputs": [],
   "source": [
    "# T2I + unet\n",
    "\n",
    "class T2INet(nn.Module) :\n",
    "    \n",
    "    def freeze_layer(self, layer):\n",
    "        for p in layer.parameters():\n",
    "            p.requires_grad = False\n",
    "\n",
    "\n",
    "    def __init__(self, unet, channels=[32, 64, 128], cin=1, num_rb=2):\n",
    "\n",
    "        super().__init__()\n",
    "        self.channels = channels\n",
    "        self.adapter = Adapter()\n",
    "        self.unet = unet\n",
    "\n",
    "        # load the orignal unet weights\n",
    "        path = \"./tmp/mnistunet.pth\"\n",
    "        if not os.path.exists(path):\n",
    "            raise FileNotFoundError(\"Model file not found!\")\n",
    "        else:\n",
    "            self.unet.load_state_dict(torch.load(path, map_location=device))\n",
    "            print(\"Model loaded successfully!\")\n",
    "            \n",
    "        for params in self.unet.parameters():\n",
    "            params.requires_grad = False\n",
    "\n",
    "\n",
    "    def forward(self, x, t, c):\n",
    "\n",
    "        # preprocess time\n",
    "        if not torch.is_tensor(t):\n",
    "            if isinstance(t, float) or isinstance(t, int):\n",
    "                t = torch.tensor([t], dtype=torch.float32, device=x.device)\n",
    "        elif torch.is_tensor(t) and len(t) == 1:\n",
    "            t = t.expand(x.shape[0], dtype=torch.float32, device=x.device)\n",
    "        elif len(t) == len(x):\n",
    "            t = torch.tensor(t, dtype=torch.float32, device=x.device)\n",
    "        t = t.expand(x.shape[0])\n",
    "\n",
    "        ##### Condition #####\n",
    "        adapter_res = self.adapter(c)\n",
    "\n",
    "        # time projection\n",
    "        emb_t = self.unet.time_proj(t) # (batch, ) -> (batch, 32)\n",
    "        emb_t = self.unet.time_embedding(emb_t) # (batch, 32) -> (batch, 128), 12_ is the dim of linear input dim of attention block\n",
    "\n",
    "        # pre_process of input\n",
    "        out = self.unet.conv_in(x) # (batch, 32, 28, 28)\n",
    "\n",
    "        #### unet ####\n",
    "        # down blocks\n",
    "        down_block_res = (out,)\n",
    "        for down in self.unet.down_blocks:\n",
    "            out, res = down(hidden_states=out, temb=emb_t)\n",
    "            down_block_res += res\n",
    "            out += adapter_res.pop(0)\n",
    "\n",
    "        # mid block\n",
    "        out = self.unet.mid_block(out, emb_t)\n",
    "\n",
    "        # upblocks\n",
    "        for up in self.unet.up_blocks:\n",
    "            # pop the res of the unet downblocks\n",
    "            res = down_block_res[-len(up.resnets) :]\n",
    "            down_block_res = down_block_res[: -len(up.resnets)] # pop the res when done\n",
    "            out = up(out, res, emb_t)\n",
    "\n",
    "        # post process\n",
    "        out = self.unet.conv_norm_out(out)\n",
    "        out = self.unet.conv_act(out)\n",
    "        out = self.unet.conv_out(out)\n",
    "\n",
    "        return out"
   ]
  },
  {
   "cell_type": "code",
   "execution_count": null,
   "metadata": {},
   "outputs": [],
   "source": [
    "# train, same as the controlnet\n",
    "\n",
    "cond_t2i = T2INet(unet)\n",
    "cond_t2i = cond_t2i.to(device)\n",
    "scheduler = DDPMScheduler(num_train_timesteps=1000, beta_schedule='squaredcos_cap_v2')\n",
    "LLosses = train_cond(10, cond_t2i, train_loader, scheduler, lr=1e-4)"
   ]
  },
  {
   "cell_type": "code",
   "execution_count": 163,
   "metadata": {},
   "outputs": [
    {
     "data": {
      "application/vnd.jupyter.widget-view+json": {
       "model_id": "298af0f992b444c1a55d9a89be3d24fd",
       "version_major": 2,
       "version_minor": 0
      },
      "text/plain": [
       "0it [00:00, ?it/s]"
      ]
     },
     "metadata": {},
     "output_type": "display_data"
    },
    {
     "data": {
      "image/png": "[encoded data removed]",
      "text/plain": [
       "<Figure size 1200x1200 with 1 Axes>"
      ]
     },
     "metadata": {},
     "output_type": "display_data"
    },
    {
     "data": {
      "image/png": "[encoded data removed]",
      "text/plain": [
       "<Figure size 1200x1200 with 1 Axes>"
      ]
     },
     "metadata": {},
     "output_type": "display_data"
    }
   ],
   "source": [
    "# inference\n",
    "\n",
    "x = torch.randn(10, 1, 28, 28).to(device)\n",
    "c = get_canny(next(iter(train_loader))[0][:10]).to(device)\n",
    "fig, ax = plt.subplots(1, 1, figsize=(12, 12))\n",
    "ax.imshow(make_grid(c.detach().cpu().clip(-1, 1), nrow=10)[0], cmap='Greys')\n",
    "generate(cond_t2i, scheduler, num=10, cond=c)"
   ]
  },
  {
   "cell_type": "markdown",
   "metadata": {},
   "source": [
    "## refs\n",
    "\n",
    "- controlnet paper: https://arxiv.org/pdf/2302.05543\n",
    "- original implementation: https://github.com/lllyasviel/ControlNet/blob/main/cldm/cldm.py#L147\n",
    "- implementation in diffusers: https://github.com/huggingface/diffusers/blob/v0.32.2/src/diffusers/models/unets/unet_2d_condition.py#L71\n",
    "- t2i paper: https://arxiv.org/pdf/2302.08453\n",
    "- t2i diffusers implmentation: https://github.com/huggingface/diffusers/blob/v0.32.2/src/diffusers/models/unets/unet_2d_condition.py#L382\n"
   ]
  }
 ],
 "metadata": {
  "kernelspec": {
   "display_name": "diffuser",
   "language": "python",
   "name": "diffuser"
  },
  "language_info": {
   "codemirror_mode": {
    "name": "ipython",
    "version": 3
   },
   "file_extension": ".py",
   "mimetype": "text/x-python",
   "name": "python",
   "nbconvert_exporter": "python",
   "pygments_lexer": "ipython3",
   "version": "3.10.13"
  }
 },
 "nbformat": 4,
 "nbformat_minor": 2
}
